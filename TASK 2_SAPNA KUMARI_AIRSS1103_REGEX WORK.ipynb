{
 "cells": [
  {
   "cell_type": "markdown",
   "id": "fc13c87d",
   "metadata": {},
   "source": [
    "# Task 2\n",
    "\n",
    "# Referral ID: AIRSS1103\n",
    "\n",
    "# Name :SAPNA KUMARI\n",
    "\n",
    "# College:HMR INSTITUTE OF TECHNOLOGY AND MANAGEMENT"
   ]
  },
  {
   "cell_type": "markdown",
   "id": "7f668134",
   "metadata": {},
   "source": [
    "# 1. Write a lambda expression to extract first word of a string."
   ]
  },
  {
   "cell_type": "code",
   "execution_count": 5,
   "id": "000e682e",
   "metadata": {},
   "outputs": [
    {
     "name": "stdout",
     "output_type": "stream",
     "text": [
      "SAPNA\n",
      "S\n"
     ]
    }
   ],
   "source": [
    "string = input()\n",
    "\n",
    "func = lambda x:x[0]\n",
    "print(func(string))"
   ]
  },
  {
   "cell_type": "markdown",
   "id": "59176946",
   "metadata": {},
   "source": [
    "# 2. Write a function to extract first word of s string (with many words separated by space)"
   ]
  },
  {
   "cell_type": "code",
   "execution_count": 6,
   "id": "40a18089",
   "metadata": {},
   "outputs": [
    {
     "name": "stdout",
     "output_type": "stream",
     "text": [
      "MY NAME IS SAPNA KUMARI\n",
      "MY\n"
     ]
    }
   ],
   "source": [
    "string = input().split()\n",
    "\n",
    "func = lambda x:x[0]\n",
    "print(func(string))"
   ]
  },
  {
   "cell_type": "markdown",
   "id": "1f0b6896",
   "metadata": {},
   "source": [
    "# 3.Extract the first word from every string from a list of strings by using map function."
   ]
  },
  {
   "cell_type": "code",
   "execution_count": 7,
   "id": "4d5a41b5",
   "metadata": {},
   "outputs": [
    {
     "name": "stdout",
     "output_type": "stream",
     "text": [
      "I LOVE MY COUNTRY\n"
     ]
    },
    {
     "data": {
      "text/plain": [
       "['I', 'L', 'M', 'C']"
      ]
     },
     "execution_count": 7,
     "metadata": {},
     "output_type": "execute_result"
    }
   ],
   "source": [
    "l = input().split()\n",
    "func = lambda x:x[0]\n",
    "list(next(zip(*map(func, l))))"
   ]
  },
  {
   "cell_type": "markdown",
   "id": "e8472bbe",
   "metadata": {},
   "source": [
    "# 4. Write a function to return a list of prime factors of a given number."
   ]
  },
  {
   "cell_type": "code",
   "execution_count": 8,
   "id": "ebd4e8b0",
   "metadata": {},
   "outputs": [
    {
     "name": "stdout",
     "output_type": "stream",
     "text": [
      "Enter the number: 200\n",
      "[2, 2, 2, 5, 5]\n"
     ]
    }
   ],
   "source": [
    "def prime(x):\n",
    "    factors = []\n",
    "    divisor = 2\n",
    "    while divisor <= x:\n",
    "        if x%divisor == 0:\n",
    "            factors.append(divisor)\n",
    "            x = x/divisor \n",
    "        else:\n",
    "            divisor += 1 \n",
    "    return factors\n",
    "\n",
    "num = input('Enter the number: ')\n",
    "print(prime(int(num)))"
   ]
  },
  {
   "cell_type": "markdown",
   "id": "0c1af926",
   "metadata": {},
   "source": [
    "# 5.Write a function that finds 2nd largest among 4 numbers (Repetitions are allowed, without sorting)."
   ]
  },
  {
   "cell_type": "code",
   "execution_count": 9,
   "id": "da8cf968",
   "metadata": {},
   "outputs": [
    {
     "name": "stdout",
     "output_type": "stream",
     "text": [
      "10 2 3 1\n",
      "3\n"
     ]
    }
   ],
   "source": [
    "def max_2(arr):\n",
    "    a = set(arr)\n",
    "    a = list(a)\n",
    "    b = max(a)\n",
    "    a.remove(b)\n",
    "    b = max(a)\n",
    "    return b\n",
    "\n",
    "l = input()\n",
    "l = l.split()\n",
    "l = list(map(int, l))\n",
    "print(max_2(l))\n"
   ]
  },
  {
   "cell_type": "code",
   "execution_count": null,
   "id": "c74ba729",
   "metadata": {},
   "outputs": [],
   "source": []
  }
 ],
 "metadata": {
  "kernelspec": {
   "display_name": "Python 3",
   "language": "python",
   "name": "python3"
  },
  "language_info": {
   "codemirror_mode": {
    "name": "ipython",
    "version": 3
   },
   "file_extension": ".py",
   "mimetype": "text/x-python",
   "name": "python",
   "nbconvert_exporter": "python",
   "pygments_lexer": "ipython3",
   "version": "3.8.8"
  }
 },
 "nbformat": 4,
 "nbformat_minor": 5
}
